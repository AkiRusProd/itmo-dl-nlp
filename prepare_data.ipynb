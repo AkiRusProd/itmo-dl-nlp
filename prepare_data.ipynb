{
 "cells": [
  {
   "cell_type": "code",
   "execution_count": 1,
   "metadata": {},
   "outputs": [],
   "source": [
    "from corus import load_lenta\n",
    "import pandas as pd\n",
    "\n",
    "path = 'lenta-ru-news.csv.gz'\n",
    "records = load_lenta(path)\n",
    "# next(records)\n"
   ]
  },
  {
   "cell_type": "markdown",
   "metadata": {},
   "source": [
    "Загрузка данных\n"
   ]
  },
  {
   "cell_type": "code",
   "execution_count": 2,
   "metadata": {},
   "outputs": [],
   "source": [
    "records = load_lenta(path)\n",
    "data = []\n",
    "for record in records:\n",
    "    if record.topic is None:\n",
    "        continue\n",
    "    data.append({\n",
    "        'title': record.title,\n",
    "        'text': record.text,\n",
    "        'topic': record.topic\n",
    "    })\n",
    "    if len(data) >= 100_000:\n",
    "        break\n",
    "df = pd.DataFrame(data)"
   ]
  },
  {
   "cell_type": "markdown",
   "metadata": {},
   "source": [
    "Предобработка текста"
   ]
  },
  {
   "cell_type": "code",
   "execution_count": 3,
   "metadata": {},
   "outputs": [
    {
     "name": "stderr",
     "output_type": "stream",
     "text": [
      "[nltk_data] Downloading package punkt_tab to\n",
      "[nltk_data]     C:\\Users\\Rustam\\AppData\\Roaming\\nltk_data...\n",
      "[nltk_data]   Package punkt_tab is already up-to-date!\n",
      "[nltk_data] Downloading package stopwords to\n",
      "[nltk_data]     C:\\Users\\Rustam\\AppData\\Roaming\\nltk_data...\n",
      "[nltk_data]   Package stopwords is already up-to-date!\n"
     ]
    }
   ],
   "source": [
    "import re\n",
    "from nltk.tokenize import word_tokenize\n",
    "from nltk.corpus import stopwords\n",
    "\n",
    "import nltk\n",
    "nltk.download('punkt_tab')\n",
    "nltk.download('stopwords')\n",
    "\n",
    "stop_words = set(stopwords.words('russian'))\n",
    "df['full_text'] = df['title'] + ' ' + df['text']\n",
    "\n",
    "def preprocess_text(text):\n",
    "    text = text.lower()\n",
    "    text = re.sub(r'[^а-яё\\s]', '', text)\n",
    "    tokens = word_tokenize(text)\n",
    "    tokens = [t for t in tokens if t not in stop_words and len(t) > 2]\n",
    "    return ' '.join(tokens)\n",
    "\n",
    "df['processed_text'] = df['full_text'].apply(preprocess_text)"
   ]
  },
  {
   "cell_type": "code",
   "execution_count": 4,
   "metadata": {},
   "outputs": [
    {
     "name": "stdout",
     "output_type": "stream",
     "text": [
      "topic\n",
      "Россия               15151\n",
      "Мир                  14421\n",
      "Спорт                10045\n",
      "Экономика             7682\n",
      "Интернет и СМИ        6935\n",
      "Силовые структуры     6925\n",
      "Бывший СССР           6810\n",
      "Культура              6578\n",
      "Наука и техника       5645\n",
      "Из жизни              4903\n",
      "Ценности              4480\n",
      "Дом                   3408\n",
      "Путешествия           3223\n",
      "Бизнес                1993\n",
      "69-я параллель         815\n",
      "Крым                   661\n",
      "Культпросвет           307\n",
      "                        17\n",
      "Оружие                   1\n",
      "Name: count, dtype: int64\n"
     ]
    }
   ],
   "source": [
    "# Посчитаем частоту каждого топика\n",
    "topic_counts = df['topic'].value_counts()\n",
    "print(topic_counts)\n",
    "\n",
    "# Удалим классы с менее чем 2 экземплярами\n",
    "valid_topics = topic_counts[topic_counts >= 2].index\n",
    "df_filtered = df[df['topic'].isin(valid_topics)].copy()"
   ]
  },
  {
   "cell_type": "markdown",
   "metadata": {},
   "source": [
    "Разделение данных"
   ]
  },
  {
   "cell_type": "code",
   "execution_count": 5,
   "metadata": {},
   "outputs": [],
   "source": [
    "from sklearn.model_selection import train_test_split\n",
    "\n",
    "X = df_filtered['processed_text']\n",
    "y = df_filtered['topic']\n",
    "\n",
    "X_train, X_temp, y_train, y_temp = train_test_split(\n",
    "    X, y, test_size=0.4, stratify=y, random_state=42\n",
    ")\n",
    "X_val, X_test, y_val, y_test = train_test_split(\n",
    "    X_temp, y_temp, test_size=0.5, stratify=y_temp, random_state=42\n",
    ")"
   ]
  },
  {
   "cell_type": "code",
   "execution_count": 6,
   "metadata": {},
   "outputs": [
    {
     "name": "stdout",
     "output_type": "stream",
     "text": [
      "Baseline accuracy: 0.1515\n"
     ]
    }
   ],
   "source": [
    "from sklearn.dummy import DummyClassifier\n",
    "from sklearn.metrics import accuracy_score\n",
    "\n",
    "dummy = DummyClassifier(strategy='most_frequent')\n",
    "dummy.fit(X_train, y_train)\n",
    "y_pred_dummy = dummy.predict(X_val)\n",
    "print(f'Baseline accuracy: {accuracy_score(y_val, y_pred_dummy):.4f}')"
   ]
  },
  {
   "cell_type": "code",
   "execution_count": 7,
   "metadata": {},
   "outputs": [
    {
     "name": "stdout",
     "output_type": "stream",
     "text": [
      "CountVectorizer accuracy: 0.8380\n",
      "TfidfVectorizer accuracy: 0.8363\n"
     ]
    }
   ],
   "source": [
    "from sklearn.pipeline import Pipeline\n",
    "from sklearn.feature_extraction.text import CountVectorizer, TfidfVectorizer\n",
    "from sklearn.linear_model import LogisticRegression\n",
    "\n",
    "# Модель с CountVectorizer\n",
    "pipe_count = Pipeline([\n",
    "    ('vec', CountVectorizer(max_features=20_000)),\n",
    "    ('clf', LogisticRegression(max_iter=1000))\n",
    "])\n",
    "pipe_count.fit(X_train, y_train)\n",
    "y_pred_count = pipe_count.predict(X_val)\n",
    "print(f'CountVectorizer accuracy: {accuracy_score(y_val, y_pred_count):.4f}')\n",
    "\n",
    "# Модель с TfidfVectorizer\n",
    "pipe_tfidf = Pipeline([\n",
    "    ('vec', TfidfVectorizer(max_features=20_000)),\n",
    "    ('clf', LogisticRegression(max_iter=1000))\n",
    "])\n",
    "pipe_tfidf.fit(X_train, y_train)\n",
    "y_pred_tfidf = pipe_tfidf.predict(X_val)\n",
    "print(f'TfidfVectorizer accuracy: {accuracy_score(y_val, y_pred_tfidf):.4f}')"
   ]
  },
  {
   "cell_type": "code",
   "execution_count": 8,
   "metadata": {},
   "outputs": [
    {
     "name": "stdout",
     "output_type": "stream",
     "text": [
      "Best params: {'clf__C': 10, 'vec__max_features': 30000, 'vec__ngram_range': (1, 2)}\n",
      "Best CV accuracy: 0.8454\n"
     ]
    }
   ],
   "source": [
    "from sklearn.model_selection import GridSearchCV\n",
    "\n",
    "params = {\n",
    "    'vec__ngram_range': [(1, 1), (1, 2)],\n",
    "    'vec__max_features': [10_000, 20_000, 30_000],\n",
    "    'clf__C': [0.1, 1, 10]\n",
    "}\n",
    "\n",
    "grid = GridSearchCV(pipe_tfidf, params, cv=3, n_jobs=-1)\n",
    "grid.fit(X_train, y_train)\n",
    "print(f'Best params: {grid.best_params_}')\n",
    "print(f'Best CV accuracy: {grid.best_score_:.4f}')"
   ]
  },
  {
   "cell_type": "code",
   "execution_count": 9,
   "metadata": {},
   "outputs": [
    {
     "name": "stdout",
     "output_type": "stream",
     "text": [
      "Test accuracy: 0.8552\n"
     ]
    }
   ],
   "source": [
    "best_model = grid.best_estimator_\n",
    "y_test_pred = best_model.predict(X_test)\n",
    "print(f'Test accuracy: {accuracy_score(y_test, y_test_pred):.4f}')"
   ]
  }
 ],
 "metadata": {
  "kernelspec": {
   "display_name": ".venv",
   "language": "python",
   "name": "python3"
  },
  "language_info": {
   "codemirror_mode": {
    "name": "ipython",
    "version": 3
   },
   "file_extension": ".py",
   "mimetype": "text/x-python",
   "name": "python",
   "nbconvert_exporter": "python",
   "pygments_lexer": "ipython3",
   "version": "3.10.11"
  }
 },
 "nbformat": 4,
 "nbformat_minor": 2
}
