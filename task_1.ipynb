{
 "cells": [
  {
   "cell_type": "code",
   "execution_count": 52,
   "metadata": {},
   "outputs": [],
   "source": [
    "from corus import load_lenta\n",
    "import pandas as pd\n",
    "\n",
    "path = 'lenta-ru-news.csv.gz'\n",
    "records = load_lenta(path)\n",
    "# next(records)\n"
   ]
  },
  {
   "cell_type": "markdown",
   "metadata": {},
   "source": [
    "Загрузка данных. Берем максимум 100000 примеров для ускорения обработки и обучения.\n"
   ]
  },
  {
   "cell_type": "code",
   "execution_count": 53,
   "metadata": {},
   "outputs": [],
   "source": [
    "records = load_lenta(path)\n",
    "data = []\n",
    "for record in records:\n",
    "    if record.topic is None:\n",
    "        continue\n",
    "    data.append({\n",
    "        'title': record.title,\n",
    "        'text': record.text,\n",
    "        'topic': record.topic\n",
    "    })\n",
    "    if len(data) >= 100_000:\n",
    "        break\n",
    "df = pd.DataFrame(data)"
   ]
  },
  {
   "cell_type": "markdown",
   "metadata": {},
   "source": [
    "Предобработка текста. Текст из колонок title и text объединяется в одну колонку full_text, после чего каждый текст проходит через несколько этапов обработки: приведение к нижнему регистру, удаление символов, не являющихся буквами или пробелами, токенизация (разбиение на слова), удаление стоп-слов и коротких токенов, а также лемматизация (приведение слов к их нормальной форме). Обработанные тексты сохраняются в новой колонке processed_text. Для ускорения обработки используется библиотека swifter с прогресс-баром. Путем проб обнаружено, что лемматизация дает наилучший результат, хотя разница со стеммингом или вообще без какого-либо из двух способов минимальна."
   ]
  },
  {
   "cell_type": "code",
   "execution_count": 54,
   "metadata": {},
   "outputs": [
    {
     "name": "stderr",
     "output_type": "stream",
     "text": [
      "[nltk_data] Downloading package punkt to\n",
      "[nltk_data]     C:\\Users\\Rustam\\AppData\\Roaming\\nltk_data...\n",
      "[nltk_data]   Package punkt is already up-to-date!\n",
      "[nltk_data] Downloading package stopwords to\n",
      "[nltk_data]     C:\\Users\\Rustam\\AppData\\Roaming\\nltk_data...\n",
      "[nltk_data]   Package stopwords is already up-to-date!\n"
     ]
    },
    {
     "data": {
      "application/vnd.jupyter.widget-view+json": {
       "model_id": "8d9f2508bc8a4f52a3c10f1d760bd555",
       "version_major": 2,
       "version_minor": 0
      },
      "text/plain": [
       "Pandas Apply:   0%|          | 0/100000 [00:00<?, ?it/s]"
      ]
     },
     "metadata": {},
     "output_type": "display_data"
    }
   ],
   "source": [
    "import re\n",
    "import nltk\n",
    "import pymorphy2\n",
    "from nltk.tokenize import word_tokenize\n",
    "from nltk.corpus import stopwords\n",
    "from nltk.stem.snowball import SnowballStemmer\n",
    "from functools import lru_cache\n",
    "import swifter\n",
    "\n",
    "nltk.download('punkt')\n",
    "nltk.download('stopwords')\n",
    "\n",
    "morph = pymorphy2.MorphAnalyzer()\n",
    "stemmer = SnowballStemmer(\"russian\")\n",
    "\n",
    "stop_words = set(stopwords.words('russian'))\n",
    "\n",
    "df['full_text'] = df['title'] + ' ' + df['text']\n",
    "\n",
    "\n",
    "@lru_cache(maxsize=100000)\n",
    "def lemmatize_word(word):\n",
    "    return morph.parse(word)[0].normal_form\n",
    "\n",
    "def preprocess_text(text):\n",
    "    text = re.sub(r'[^а-яё\\s]|\\d+', '', text.lower())\n",
    "    tokens = word_tokenize(text, language = \"russian\")\n",
    "    tokens = [lemmatize_word(t) for t in tokens if t not in stop_words and len(t) > 2] # Лемматизация\n",
    "    # tokens = [stemmer.stem(t) for t in tokens  if t not in stop_words and len(t) > 2]  # Стемминг\n",
    "    return ' '.join(tokens)\n",
    "\n",
    "# Применение с распараллеливанием\n",
    "df['processed_text'] = df['full_text'].swifter.progress_bar(True).apply(preprocess_text)"
   ]
  },
  {
   "cell_type": "code",
   "execution_count": 55,
   "metadata": {},
   "outputs": [
    {
     "name": "stdout",
     "output_type": "stream",
     "text": [
      "topic\n",
      "Россия               15151\n",
      "Мир                  14421\n",
      "Спорт                10045\n",
      "Экономика             7682\n",
      "Интернет и СМИ        6935\n",
      "Силовые структуры     6925\n",
      "Бывший СССР           6810\n",
      "Культура              6578\n",
      "Наука и техника       5645\n",
      "Из жизни              4903\n",
      "Ценности              4480\n",
      "Дом                   3408\n",
      "Путешествия           3223\n",
      "Бизнес                1993\n",
      "69-я параллель         815\n",
      "Крым                   661\n",
      "Культпросвет           307\n",
      "                        17\n",
      "Оружие                   1\n",
      "Name: count, dtype: int64\n"
     ]
    }
   ],
   "source": [
    "# Посчитаем частоту каждого топика\n",
    "topic_counts = df['topic'].value_counts()\n",
    "print(topic_counts)\n",
    "\n",
    "# Удалим классы с менее чем 2 экземплярами\n",
    "valid_topics = topic_counts[topic_counts >= 2].index\n",
    "df_filtered = df[df['topic'].isin(valid_topics)].copy()"
   ]
  },
  {
   "cell_type": "markdown",
   "metadata": {},
   "source": [
    "Разделяем датасет на обучающую, валидационную и тестовую выборки со стратификацией в пропорции 60/20/20. В качестве целевой переменной используем атрибут topic."
   ]
  },
  {
   "cell_type": "code",
   "execution_count": 56,
   "metadata": {},
   "outputs": [],
   "source": [
    "from sklearn.model_selection import train_test_split\n",
    "\n",
    "X = df_filtered['processed_text']\n",
    "y = df_filtered['topic']\n",
    "\n",
    "X_train, X_temp, y_train, y_temp = train_test_split(\n",
    "    X, y, test_size=0.4, stratify=y, random_state=42\n",
    ")\n",
    "X_val, X_test, y_val, y_test = train_test_split(\n",
    "    X_temp, y_temp, test_size=0.5, stratify=y_temp, random_state=42\n",
    ")"
   ]
  },
  {
   "cell_type": "markdown",
   "metadata": {},
   "source": [
    "Замеряем базовое качество с dummy-бейзлайном "
   ]
  },
  {
   "cell_type": "code",
   "execution_count": 63,
   "metadata": {},
   "outputs": [
    {
     "name": "stdout",
     "output_type": "stream",
     "text": [
      "Baseline accuracy: 0.1515\n"
     ]
    }
   ],
   "source": [
    "from sklearn.dummy import DummyClassifier\n",
    "from sklearn.metrics import accuracy_score\n",
    "\n",
    "dummy = DummyClassifier(strategy='most_frequent', random_state=42)\n",
    "dummy.fit(X_train, y_train)\n",
    "y_pred_dummy = dummy.predict(X_val)\n",
    "print(f'Baseline accuracy: {accuracy_score(y_val, y_pred_dummy):.4f}')"
   ]
  },
  {
   "cell_type": "markdown",
   "metadata": {},
   "source": [
    "Пайплайн включает сравнение двух подходов векторизации текста (CountVectorizer и TfidfVectorizer) в сочетании с LogisticRegression для классификации. Обучаются две модели на тренировочных данных, после чего оценивается их точность на валидационной выборке.\n",
    "\n",
    "Цель — определить, какой подход (CountVectorizer или TfidfVectorizer) лучше подходит для задачи."
   ]
  },
  {
   "cell_type": "code",
   "execution_count": 67,
   "metadata": {},
   "outputs": [
    {
     "name": "stdout",
     "output_type": "stream",
     "text": [
      "CountVectorizer accuracy: 0.8376\n",
      "TfidfVectorizer accuracy: 0.8377\n"
     ]
    }
   ],
   "source": [
    "from sklearn.pipeline import Pipeline\n",
    "from sklearn.feature_extraction.text import CountVectorizer, TfidfVectorizer\n",
    "from sklearn.linear_model import LogisticRegression\n",
    "\n",
    "# Модель с CountVectorizer\n",
    "pipe_count = Pipeline([\n",
    "    ('vec', CountVectorizer(max_features=20_000)),\n",
    "    ('clf', LogisticRegression(max_iter=1000, random_state=42))\n",
    "])\n",
    "pipe_count.fit(X_train, y_train)\n",
    "y_pred_count = pipe_count.predict(X_val)\n",
    "print(f'CountVectorizer accuracy: {accuracy_score(y_val, y_pred_count):.4f}')\n",
    "\n",
    "# Модель с TfidfVectorizer\n",
    "pipe_tfidf = Pipeline([\n",
    "    ('vec', TfidfVectorizer(max_features=20_000)),\n",
    "    ('clf', LogisticRegression(max_iter=1000, random_state=42))\n",
    "])\n",
    "pipe_tfidf.fit(X_train, y_train)\n",
    "y_pred_tfidf = pipe_tfidf.predict(X_val)\n",
    "print(f'TfidfVectorizer accuracy: {accuracy_score(y_val, y_pred_tfidf):.4f}')"
   ]
  },
  {
   "cell_type": "markdown",
   "metadata": {},
   "source": [
    "Используем GridSearchCV для подбора гиперпараметров TfidfVectorizer и LogisticRegression. Перебираем диапазон n-грамм, количество признаков и параметр регуляризации C. Кросс-валидация на 3 фолдах, параллелизация на всех ядрах (n_jobs=-1). После обучения выводим лучшие параметры и точность."
   ]
  },
  {
   "cell_type": "code",
   "execution_count": 69,
   "metadata": {},
   "outputs": [
    {
     "name": "stdout",
     "output_type": "stream",
     "text": [
      "Best params: {'clf__C': 10, 'vec__max_features': 30000, 'vec__ngram_range': (1, 2)}\n",
      "Best CV accuracy: 0.8484\n"
     ]
    }
   ],
   "source": [
    "from sklearn.model_selection import GridSearchCV\n",
    "\n",
    "params = {\n",
    "    'vec__ngram_range': [(1, 1), (1, 2)],\n",
    "    'vec__max_features': [10_000, 20_000, 30_000],\n",
    "    'clf__C': [0.1, 1, 10]\n",
    "}\n",
    "\n",
    "grid = GridSearchCV(pipe_tfidf, params, cv=3, n_jobs=-1)\n",
    "grid.fit(X_train, y_train)\n",
    "print(f'Best params: {grid.best_params_}')\n",
    "print(f'Best CV accuracy: {grid.best_score_:.4f}')"
   ]
  },
  {
   "cell_type": "markdown",
   "metadata": {},
   "source": [
    "Оценка качества лучшего пайплайна на отложенной выборке "
   ]
  },
  {
   "cell_type": "code",
   "execution_count": 70,
   "metadata": {},
   "outputs": [
    {
     "name": "stdout",
     "output_type": "stream",
     "text": [
      "Test accuracy: 0.8579\n",
      "                   precision    recall  f1-score   support\n",
      "\n",
      "           Россия       0.00      0.00      0.00         3\n",
      "            Спорт       0.93      0.73      0.82       163\n",
      "      Путешествия       0.66      0.54      0.59       399\n",
      "              Мир       0.89      0.88      0.89      1362\n",
      "      Бывший СССР       0.88      0.84      0.86       681\n",
      "   Интернет и СМИ       0.82      0.79      0.81       980\n",
      "Силовые структуры       0.85      0.81      0.83      1387\n",
      "        Экономика       0.81      0.77      0.79       132\n",
      "         Культура       0.71      0.39      0.50        62\n",
      "              Дом       0.88      0.90      0.89      1316\n",
      "  Наука и техника       0.86      0.90      0.88      2884\n",
      "         Из жизни       0.90      0.90      0.90      1129\n",
      "         Ценности       0.88      0.83      0.86       645\n",
      "           Бизнес       0.81      0.85      0.83      3031\n",
      "   69-я параллель       0.79      0.78      0.78      1385\n",
      "                        0.97      0.97      0.97      2009\n",
      "    Культпросвет        0.94      0.91      0.93       896\n",
      "             Крым       0.82      0.82      0.82      1536\n",
      "\n",
      "         accuracy                           0.86     20000\n",
      "        macro avg       0.80      0.76      0.77     20000\n",
      "     weighted avg       0.86      0.86      0.86     20000\n",
      "\n"
     ]
    }
   ],
   "source": [
    "best_model = grid.best_estimator_\n",
    "y_test_pred = best_model.predict(X_test)\n",
    "print(f'Test accuracy: {accuracy_score(y_test, y_test_pred):.4f}')\n",
    "\n",
    "from sklearn.metrics import classification_report\n",
    "print(classification_report(y_test, y_test_pred, target_names=df_filtered['topic'].unique(), zero_division=0))"
   ]
  }
 ],
 "metadata": {
  "kernelspec": {
   "display_name": ".venv",
   "language": "python",
   "name": "python3"
  },
  "language_info": {
   "codemirror_mode": {
    "name": "ipython",
    "version": 3
   },
   "file_extension": ".py",
   "mimetype": "text/x-python",
   "name": "python",
   "nbconvert_exporter": "python",
   "pygments_lexer": "ipython3",
   "version": "3.10.11"
  }
 },
 "nbformat": 4,
 "nbformat_minor": 2
}
